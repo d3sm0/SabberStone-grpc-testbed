{
 "cells": [
  {
   "cell_type": "markdown",
   "metadata": {},
   "source": [
    "# AI vs AI tutorial with pysabberstone API"
   ]
  },
  {
   "cell_type": "code",
   "execution_count": 6,
   "metadata": {},
   "outputs": [],
   "source": [
    "# %load abstract_ai.py\n",
    "from python_pb2 import MatchRequest, QueueRequest, Empty\n",
    "from abc import ABC\n",
    "import random\n",
    "\n",
    "\n",
    "class AbstractAI(ABC):\n",
    "    def __init__(self, stub, account_name):\n",
    "        self._stub = stub\n",
    "        self.metadata = (('id', account_name),)\n",
    "        self.game_id = \"\"\n",
    "        self.response_stream = None\n",
    "        self.request_stream = None\n",
    "\n",
    "    def connect(self, ip, port):\n",
    "        request = MatchRequest(ip=ip,\n",
    "                               port=port,\n",
    "                               id=self.metadata[0][1],\n",
    "                               password=\"\")\n",
    "        self._stub.Initialise(request)\n",
    "\n",
    "    def queue(self, deckstring):\n",
    "        request = QueueRequest(deckstring=deckstring,\n",
    "                               id=self.metadata[0][1],\n",
    "                               password=\"\")\n",
    "        self._stub.Queue(request)\n",
    "\n",
    "\n",
    "def start_remote_ai_match(ai: AbstractAI, ip, port,\n",
    "                          id, deckstring, sabberstone_stub):\n",
    "    \"\"\"Connect to a specified remote server with AI using the given deckstring.\"\"\"\t\n",
    "    ai.connect(ip, port)\n",
    "    ai.queue(deckstring)\n",
    "    stub = ai._stub\n",
    "    game = stub.GetState(Empty(), metadata=ai.metadata)\n",
    "    while game.state != 3:\n",
    "        stub.SendOption(ai.get_option(sabberstone_stub, game),\n",
    "                        metadata=ai.metadata)\n",
    "        game = stub.GetState(Empty(), metadata=ai.metadata)\n",
    "    print(\"Game Finished.\")\n",
    "\n",
    "\n",
    "class RandomAI(AbstractAI):\n",
    "    def get_option(self, sabberstone_stub, game):\n",
    "        options = sabberstone_stub.GetOptions(game.id)\n",
    "        return options.list[random.randrange(len(options.list))]\n"
   ]
  },
  {
   "cell_type": "code",
   "execution_count": null,
   "metadata": {},
   "outputs": [],
   "source": []
  }
 ],
 "metadata": {
  "kernelspec": {
   "display_name": "Python 3",
   "language": "python",
   "name": "python3"
  },
  "language_info": {
   "codemirror_mode": {
    "name": "ipython",
    "version": 3
   },
   "file_extension": ".py",
   "mimetype": "text/x-python",
   "name": "python",
   "nbconvert_exporter": "python",
   "pygments_lexer": "ipython3",
   "version": "3.7.5"
  }
 },
 "nbformat": 4,
 "nbformat_minor": 2
}
