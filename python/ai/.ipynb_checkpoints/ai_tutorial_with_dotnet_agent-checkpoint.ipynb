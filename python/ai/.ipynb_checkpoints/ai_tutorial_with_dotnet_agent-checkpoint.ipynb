{
 "cells": [
  {
   "cell_type": "markdown",
   "metadata": {},
   "source": [
    "# Install the dotnet agent\n",
    "\n",
    "## Build\n",
    "\n",
    "1. Clone the agent from repo.\n",
    "2. Add it to the dotnet solution and project (SabberStonePython).\n",
    "3. Build the solution.\n",
    "4. Run\n",
    "\n",
    "```shell\n",
    "cd dotnet_core/ai\n",
    "git clone https://github.com/rnilva/Hearthstone-MonteCarloGraphSearch\n",
    "\n",
    "cd ../\n",
    "dotnet sln add ai/Hearthstone-MonteCarloGraphSearch/MonteCarloGraphSearch/MonteCarloGraphSearch.csproj\n",
    "dotnet add SabberStonePython.csproj reference ai/Hearthstone-MonteCarloGraphSearch/MonteCarloGraphSearch/MonteCarloGraphSearch.csproj\n",
    "\n",
    "dotnet build -c Release -o ../python/_sabberstone_dotnet\n",
    "\n",
    "dotnet ../python/_sabberstone_dotnet/SabberStonePython.dll\n",
    "```"
   ]
  },
  {
   "cell_type": "markdown",
   "metadata": {},
   "source": [
    "# Python API\n",
    "\n",
    "## Structure of AbstractAI\n",
    "\n",
    "```python\n",
    "class AbstractAI(ABC):\n",
    "    def __init__(self, stub, account_name):\n",
    "        self._stub = stub\n",
    "        self.metadata = (('id', account_name),)\n",
    "        self.game_id = \"\"\n",
    "        self.response_stream = None\n",
    "        self.request_stream = None\n",
    "\n",
    "    @abstractmethod\n",
    "    def get_option(self, game: Game, sabber_stub) -> Option:\n",
    "        \"\"\"Calculate and reutnr the best move\n",
    "        with regard to the given game state.\n",
    "        Each AI agent must implement this method.\n",
    "        \"\"\"\n",
    "        pass\n",
    "\n",
    "    @abstractmethod\n",
    "    def on_match_started(self):\n",
    "        \"\"\"This method will be called when a match is started.\"\"\"\n",
    "        pass\n",
    "\n",
    "    @abstractmethod\n",
    "    def on_game_started(self):\n",
    "        \"\"\"This method will be called when each game(round) is started.\"\"\"\n",
    "        pass\n",
    "\n",
    "    @abstractmethod\n",
    "    def on_game_finished(self, game):\n",
    "        \"\"\"This method will be called when each game(round) is finished.\"\"\"\n",
    "        pass\n",
    "```\n"
   ]
  },
  {
   "cell_type": "markdown",
   "metadata": {},
   "source": [
    "## Run SabberStone gRPC stub"
   ]
  },
  {
   "cell_type": "code",
   "execution_count": null,
   "metadata": {},
   "outputs": [],
   "source": [
    "import sys\n",
    "sys.path.insert(0, \"../../../\")"
   ]
  },
  {
   "cell_type": "code",
   "execution_count": null,
   "metadata": {},
   "outputs": [],
   "source": [
    "import grpc\n",
    "from pysabberstone.python.rpc import python_pb2_grpc"
   ]
  },
  {
   "cell_type": "code",
   "execution_count": null,
   "metadata": {},
   "outputs": [],
   "source": [
    "channel = grpc.insecure_channel(\"localhost:50052\")\n",
    "stub = python_pb2_grpc.SabberStonePythonStub(channel)\n",
    "dotnet_ai_stub = python_pb2_grpc.DotnetAIServiceStub(channel)"
   ]
  },
  {
   "cell_type": "markdown",
   "metadata": {},
   "source": [
    "## Create Python `AbstractAI` instance\n",
    "In this tutorial we are going to use `RandomAI`."
   ]
  },
  {
   "cell_type": "code",
   "execution_count": null,
   "metadata": {},
   "outputs": [],
   "source": [
    "from pysabberstone.python.ai.abstract_ai import RandomAI, dotnet_ai_match"
   ]
  },
  {
   "cell_type": "code",
   "execution_count": null,
   "metadata": {},
   "outputs": [],
   "source": [
    "account_name = \"TestPythonRandomAI\"\n",
    "ai = RandomAI(stub, account_name)"
   ]
  },
  {
   "cell_type": "markdown",
   "metadata": {},
   "source": [
    "## Run `dotnet_ai_match()`"
   ]
  },
  {
   "cell_type": "code",
   "execution_count": null,
   "metadata": {},
   "outputs": [],
   "source": [
    "deck = r\"AAEBAQcCrwSRvAIOHLACkQP/A44FqAXUBaQG7gbnB+8HgrACiLACub8CAA==\"\n",
    "\n",
    "dotnet_ai_match(python_ai=ai,\n",
    "                dotnet_ai_name=\"MonteCarloGraphSearch\",\n",
    "                python_ai_deckstring=deck,\n",
    "                dotnet_ai_deckstring=deck,\n",
    "                sabber_stub=stub,\n",
    "                dotnet_ai_stub=dotnet_ai_stub,\n",
    "                history=True)"
   ]
  },
  {
   "cell_type": "markdown",
   "metadata": {},
   "source": [
    "## Implementation of `dotnet_ai_match()`\n",
    "\n",
    "```python\n",
    "def dotnet_ai_match(python_ai: AbstractAI, dotnet_ai_name: str,\n",
    "                    python_ai_deckstring, dotnet_ai_deckstring,\n",
    "                    sabber_stub: SabberStonePythonStub,\n",
    "                    dotnet_ai_stub: DotnetAIServiceStub,\n",
    "                    history: bool = False,\n",
    "                    random_seed: int = 0,\n",
    "                    count: int = 1):\n",
    "    \"\"\"Run matches between python AI agent and dotnet AI agent.\"\"\"\n",
    "    python_ai.on_match_started()\n",
    "    for i in range(count):\n",
    "        python_ai.on_game_started()\n",
    "        # Request: Initialise dotnet AI agent with a specified name and\n",
    "        #          get new established game.\n",
    "        #          If dotnet AI is the first player of the game, it will\n",
    "        #          play its turn.\n",
    "        #          The game used in matches is partially observable, i.e.,\n",
    "        #          the opponent's hand and deck is filled with 'Unknown' cards.\n",
    "        response = dotnet_ai_stub.Request(\n",
    "            DotnetAIRequest(dotnet_ai_name=dotnet_ai_name,\n",
    "                            dotnet_ai_deckstring=dotnet_ai_deckstring,\n",
    "                            python_ai_deckstring=python_ai_deckstring,\n",
    "                            history=history,\n",
    "                            seed=random_seed))\n",
    "        if response.Type == 1:  # NOT_FOUND\n",
    "            print(\"dotnet agent with name {} is not found.\".format(\n",
    "                dotnet_ai_name))\n",
    "            return\n",
    "        elif response.Type == 2:  # OCCUPIED\n",
    "            print(\"Only one match can be run.\")\n",
    "            return\n",
    "        elif response.Type == 3:  # INVALID_DECKSTRING\n",
    "            print(\"Invalid deckstring.\")\n",
    "            return\n",
    "\n",
    "        game = response.game\n",
    "\n",
    "        # Main loop\n",
    "        while game.state != 3:\n",
    "            # Get option from the python ai\n",
    "            option = python_ai.get_option(game, sabber_stub)\n",
    "\n",
    "            # Send Option: If the given option is end turn option,\n",
    "            #              python client receives the start of the next\n",
    "            #              turn after the dotnet client plays its turn.\n",
    "            #              Therefore 'game' is always python client's turn.\n",
    "            game = dotnet_ai_stub.SendPythonAIOption(option)\n",
    "\n",
    "        # TODO: winner\n",
    "\n",
    "        python_ai.on_game_finished(game)\n",
    "```"
   ]
  },
  {
   "cell_type": "markdown",
   "metadata": {},
   "source": [
    "# Watch replays with GUI\n",
    "\n",
    "## History output from SabberStonePython\n",
    "\n",
    "1. To save replay log, you should call `dotnet_ai_match()` with `history=True` option.\n",
    "2. Saved replay logs are located `{DOTNET_DLL_DIRECTORY}/history` .\n",
    "\n",
    "## SabberStoneUnityClient\n",
    "\n",
    "1. Get SabberStoneUnityClient, build and run.\n",
    "2. Click 'replay' button.\n",
    "3. Load a saved history log.\n",
    "4. Click 'NEXT STEP' button on the lower left corner.\n",
    "5. Enjoy!"
   ]
  }
 ],
 "metadata": {
  "kernelspec": {
   "display_name": "Python [conda env:rpc] *",
   "language": "python",
   "name": "conda-env-rpc-py"
  },
  "language_info": {
   "codemirror_mode": {
    "name": "ipython",
    "version": 3
   },
   "file_extension": ".py",
   "mimetype": "text/x-python",
   "name": "python",
   "nbconvert_exporter": "python",
   "pygments_lexer": "ipython3",
   "version": "3.7.3"
  }
 },
 "nbformat": 4,
 "nbformat_minor": 2
}
