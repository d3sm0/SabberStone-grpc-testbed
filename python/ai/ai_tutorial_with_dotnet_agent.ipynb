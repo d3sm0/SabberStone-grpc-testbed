{
 "cells": [
  {
   "cell_type": "markdown",
   "metadata": {},
   "source": [
    "# Install the dotnet agent\n",
    "\n",
    "## Build\n",
    "\n",
    "1. Clone the agent from repo.\n",
    "2. Add it to the dotnet solution and project (SabberStonePython).\n",
    "3. Build the solution.\n",
    "\n",
    "```shell\n",
    "cd dotnet_core/ai\n",
    "git clone https://github.com/rnilva/Hearthstone-MonteCarloGraphSearch\n",
    "\n",
    "cd ../\n",
    "dotnet sln add ai/Hearthstone-MonteCarloGraphSearch/MonteCarloGraphSearch/MonteCarloGraphSearch.csproj\n",
    "dotnet add SabberStonePython.csproj reference ai/Hearthstone-MonteCarloGraphSearch/MonteCarloGraphSearch/MonteCarloGraphSearch.csproj\n",
    "\n",
    "dotnet run -c Release\n",
    "```"
   ]
  },
  {
   "cell_type": "markdown",
   "metadata": {},
   "source": [
    "# Python API\n",
    "\n",
    "## Structure of AbstractAI\n",
    "\n",
    "```python\n",
    "class AbstractAI(ABC):\n",
    "    def __init__(self, stub, account_name):\n",
    "        self._stub = stub\n",
    "        self.metadata = (('id', account_name),)\n",
    "        self.game_id = \"\"\n",
    "        self.response_stream = None\n",
    "        self.request_stream = None\n",
    "\n",
    "    @abstractmethod\n",
    "    def get_option(self, game: Game, sabber_stub) -> Option:\n",
    "        \"\"\"Calculate and reutnr the best move\n",
    "        with regard to the given game state.\n",
    "        Each AI agent must implement this method.\n",
    "        \"\"\"\n",
    "        pass\n",
    "\n",
    "    @abstractmethod\n",
    "    def on_match_started(self):\n",
    "        \"\"\"This method will be called when a match is started.\"\"\"\n",
    "        pass\n",
    "\n",
    "    @abstractmethod\n",
    "    def on_game_started(self):\n",
    "        \"\"\"This method will be called when each game(round) is started.\"\"\"\n",
    "        pass\n",
    "\n",
    "    @abstractmethod\n",
    "    def on_game_finished(self, game):\n",
    "        \"\"\"This method will be called when each game(round) is finished.\"\"\"\n",
    "        pass\n",
    "```\n"
   ]
  },
  {
   "cell_type": "markdown",
   "metadata": {},
   "source": [
    "## Run SabberStone gRPC stub"
   ]
  },
  {
   "cell_type": "code",
   "execution_count": 1,
   "metadata": {},
   "outputs": [
    {
     "data": {
      "text/plain": [
       "['../../../',\n",
       " '/home/js/pysabberstone/python/ai',\n",
       " '/home/js/anaconda3/envs/rpc/lib/python37.zip',\n",
       " '/home/js/anaconda3/envs/rpc/lib/python3.7',\n",
       " '/home/js/anaconda3/envs/rpc/lib/python3.7/lib-dynload',\n",
       " '',\n",
       " '/home/js/anaconda3/envs/rpc/lib/python3.7/site-packages',\n",
       " '/home/js/anaconda3/envs/rpc/lib/python3.7/site-packages/IPython/extensions',\n",
       " '/home/js/.ipython']"
      ]
     },
     "execution_count": 1,
     "metadata": {},
     "output_type": "execute_result"
    }
   ],
   "source": [
    "import sys\n",
    "sys.path.insert(0, \"../../../\")\n",
    "sys.path"
   ]
  },
  {
   "cell_type": "code",
   "execution_count": 2,
   "metadata": {},
   "outputs": [],
   "source": [
    "import grpc\n",
    "from pysabberstone.python.rpc import python_pb2_grpc"
   ]
  },
  {
   "cell_type": "code",
   "execution_count": 3,
   "metadata": {},
   "outputs": [],
   "source": [
    "channel = grpc.insecure_channel(\"localhost:50052\")\n",
    "stub = python_pb2_grpc.SabberStonePythonStub(channel)\n",
    "dotnet_ai_stub = python_pb2_grpc.DotnetAIServiceStub(channel)"
   ]
  },
  {
   "cell_type": "markdown",
   "metadata": {},
   "source": [
    "## Create Python `AbstractAI` instance\n",
    "In this tutorial we are going to use `RandomAI`."
   ]
  },
  {
   "cell_type": "code",
   "execution_count": 4,
   "metadata": {},
   "outputs": [],
   "source": [
    "from pysabberstone.python.ai.abstract_ai import RandomAI, dotnet_ai_match"
   ]
  },
  {
   "cell_type": "code",
   "execution_count": 5,
   "metadata": {},
   "outputs": [],
   "source": [
    "account_name = \"TestPythonRandomAI\"\n",
    "ai = RandomAI(stub, account_name)"
   ]
  },
  {
   "cell_type": "markdown",
   "metadata": {},
   "source": [
    "## Run `dotnet_ai_match()`"
   ]
  },
  {
   "cell_type": "code",
   "execution_count": 19,
   "metadata": {},
   "outputs": [
    {
     "ename": "_Rendezvous",
     "evalue": "<_Rendezvous of RPC that terminated with:\n\tstatus = StatusCode.UNKNOWN\n\tdetails = \"Exception was thrown by handler.\"\n\tdebug_error_string = \"{\"created\":\"@1574770347.125029695\",\"description\":\"Error received from peer ipv4:127.0.0.1:50052\",\"file\":\"src/core/lib/surface/call.cc\",\"file_line\":1055,\"grpc_message\":\"Exception was thrown by handler.\",\"grpc_status\":2}\"\n>",
     "output_type": "error",
     "traceback": [
      "\u001b[0;31m---------------------------------------------------------------------------\u001b[0m",
      "\u001b[0;31m_Rendezvous\u001b[0m                               Traceback (most recent call last)",
      "\u001b[0;32m<ipython-input-19-82c200bab612>\u001b[0m in \u001b[0;36m<module>\u001b[0;34m\u001b[0m\n\u001b[1;32m      6\u001b[0m                 \u001b[0mdotnet_ai_deckstring\u001b[0m\u001b[0;34m=\u001b[0m\u001b[0mdeck\u001b[0m\u001b[0;34m,\u001b[0m\u001b[0;34m\u001b[0m\u001b[0;34m\u001b[0m\u001b[0m\n\u001b[1;32m      7\u001b[0m                 \u001b[0msabber_stub\u001b[0m\u001b[0;34m=\u001b[0m\u001b[0mstub\u001b[0m\u001b[0;34m,\u001b[0m\u001b[0;34m\u001b[0m\u001b[0;34m\u001b[0m\u001b[0m\n\u001b[0;32m----> 8\u001b[0;31m                 dotnet_ai_stub=dotnet_ai_stub)\n\u001b[0m",
      "\u001b[0;32m~/pysabberstone/python/ai/abstract_ai.py\u001b[0m in \u001b[0;36mdotnet_ai_match\u001b[0;34m(python_ai, dotnet_ai_name, python_ai_deckstring, dotnet_ai_deckstring, sabber_stub, dotnet_ai_stub, count)\u001b[0m\n\u001b[1;32m    111\u001b[0m             \u001b[0;31m#              turn after the dotnet client plays its turn.\u001b[0m\u001b[0;34m\u001b[0m\u001b[0;34m\u001b[0m\u001b[0;34m\u001b[0m\u001b[0m\n\u001b[1;32m    112\u001b[0m             \u001b[0;31m#              Therefore 'game' is always python client's turn.\u001b[0m\u001b[0;34m\u001b[0m\u001b[0;34m\u001b[0m\u001b[0;34m\u001b[0m\u001b[0m\n\u001b[0;32m--> 113\u001b[0;31m             \u001b[0mgame\u001b[0m \u001b[0;34m=\u001b[0m \u001b[0mdotnet_ai_stub\u001b[0m\u001b[0;34m.\u001b[0m\u001b[0mSendPythonAIOption\u001b[0m\u001b[0;34m(\u001b[0m\u001b[0moption\u001b[0m\u001b[0;34m)\u001b[0m\u001b[0;34m\u001b[0m\u001b[0;34m\u001b[0m\u001b[0m\n\u001b[0m\u001b[1;32m    114\u001b[0m \u001b[0;34m\u001b[0m\u001b[0m\n\u001b[1;32m    115\u001b[0m         \u001b[0;31m# TODO: winner\u001b[0m\u001b[0;34m\u001b[0m\u001b[0;34m\u001b[0m\u001b[0;34m\u001b[0m\u001b[0m\n",
      "\u001b[0;32m~/anaconda3/envs/rpc/lib/python3.7/site-packages/grpc/_channel.py\u001b[0m in \u001b[0;36m__call__\u001b[0;34m(self, request, timeout, metadata, credentials, wait_for_ready, compression)\u001b[0m\n\u001b[1;32m    688\u001b[0m         state, call, = self._blocking(request, timeout, metadata, credentials,\n\u001b[1;32m    689\u001b[0m                                       wait_for_ready, compression)\n\u001b[0;32m--> 690\u001b[0;31m         \u001b[0;32mreturn\u001b[0m \u001b[0m_end_unary_response_blocking\u001b[0m\u001b[0;34m(\u001b[0m\u001b[0mstate\u001b[0m\u001b[0;34m,\u001b[0m \u001b[0mcall\u001b[0m\u001b[0;34m,\u001b[0m \u001b[0;32mFalse\u001b[0m\u001b[0;34m,\u001b[0m \u001b[0;32mNone\u001b[0m\u001b[0;34m)\u001b[0m\u001b[0;34m\u001b[0m\u001b[0;34m\u001b[0m\u001b[0m\n\u001b[0m\u001b[1;32m    691\u001b[0m \u001b[0;34m\u001b[0m\u001b[0m\n\u001b[1;32m    692\u001b[0m     def with_call(self,\n",
      "\u001b[0;32m~/anaconda3/envs/rpc/lib/python3.7/site-packages/grpc/_channel.py\u001b[0m in \u001b[0;36m_end_unary_response_blocking\u001b[0;34m(state, call, with_call, deadline)\u001b[0m\n\u001b[1;32m    590\u001b[0m             \u001b[0;32mreturn\u001b[0m \u001b[0mstate\u001b[0m\u001b[0;34m.\u001b[0m\u001b[0mresponse\u001b[0m\u001b[0;34m\u001b[0m\u001b[0;34m\u001b[0m\u001b[0m\n\u001b[1;32m    591\u001b[0m     \u001b[0;32melse\u001b[0m\u001b[0;34m:\u001b[0m\u001b[0;34m\u001b[0m\u001b[0;34m\u001b[0m\u001b[0m\n\u001b[0;32m--> 592\u001b[0;31m         \u001b[0;32mraise\u001b[0m \u001b[0m_Rendezvous\u001b[0m\u001b[0;34m(\u001b[0m\u001b[0mstate\u001b[0m\u001b[0;34m,\u001b[0m \u001b[0;32mNone\u001b[0m\u001b[0;34m,\u001b[0m \u001b[0;32mNone\u001b[0m\u001b[0;34m,\u001b[0m \u001b[0mdeadline\u001b[0m\u001b[0;34m)\u001b[0m\u001b[0;34m\u001b[0m\u001b[0;34m\u001b[0m\u001b[0m\n\u001b[0m\u001b[1;32m    593\u001b[0m \u001b[0;34m\u001b[0m\u001b[0m\n\u001b[1;32m    594\u001b[0m \u001b[0;34m\u001b[0m\u001b[0m\n",
      "\u001b[0;31m_Rendezvous\u001b[0m: <_Rendezvous of RPC that terminated with:\n\tstatus = StatusCode.UNKNOWN\n\tdetails = \"Exception was thrown by handler.\"\n\tdebug_error_string = \"{\"created\":\"@1574770347.125029695\",\"description\":\"Error received from peer ipv4:127.0.0.1:50052\",\"file\":\"src/core/lib/surface/call.cc\",\"file_line\":1055,\"grpc_message\":\"Exception was thrown by handler.\",\"grpc_status\":2}\"\n>"
     ]
    }
   ],
   "source": [
    "deck = r\"AAEBAQcCrwSRvAIOHLACkQP/A44FqAXUBaQG7gbnB+8HgrACiLACub8CAA==\"\n",
    "\n",
    "dotnet_ai_match(python_ai=ai,\n",
    "                dotnet_ai_name=\"MonteCarloGraphSearch\",\n",
    "                python_ai_deckstring=deck,\n",
    "                dotnet_ai_deckstring=deck,\n",
    "                sabber_stub=stub,\n",
    "                dotnet_ai_stub=dotnet_ai_stub)"
   ]
  },
  {
   "cell_type": "code",
   "execution_count": null,
   "metadata": {},
   "outputs": [],
   "source": []
  }
 ],
 "metadata": {
  "kernelspec": {
   "display_name": "Python 3",
   "language": "python",
   "name": "python3"
  },
  "language_info": {
   "codemirror_mode": {
    "name": "ipython",
    "version": 3
   },
   "file_extension": ".py",
   "mimetype": "text/x-python",
   "name": "python",
   "nbconvert_exporter": "python",
   "pygments_lexer": "ipython3",
   "version": "3.7.5"
  }
 },
 "nbformat": 4,
 "nbformat_minor": 2
}
