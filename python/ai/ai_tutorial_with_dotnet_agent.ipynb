{
 "cells": [
  {
   "cell_type": "markdown",
   "metadata": {},
   "source": [
    "# Install the dotnet agent\n",
    "\n",
    "## Build\n",
    "\n",
    "1. Clone the agent from repo.\n",
    "2. Add it to the dotnet solution and project (SabberStonePython).\n",
    "3. Build the solution.\n",
    "4. Run\n",
    "\n",
    "```shell\n",
    "cd dotnet_core/ai\n",
    "git clone https://github.com/rnilva/Hearthstone-MonteCarloGraphSearch\n",
    "\n",
    "cd ../\n",
    "dotnet sln add ai/Hearthstone-MonteCarloGraphSearch/MonteCarloGraphSearch/MonteCarloGraphSearch.csproj\n",
    "dotnet add SabberStonePython.csproj reference ai/Hearthstone-MonteCarloGraphSearch/MonteCarloGraphSearch/MonteCarloGraphSearch.csproj\n",
    "\n",
    "dotnet build -c Release -o ../python/_sabberstone_dotnet\n",
    "\n",
    "dotnet ../python/_sabberstone_dotnet/SabberStonePython.dll\n",
    "```"
   ]
  },
  {
   "cell_type": "markdown",
   "metadata": {},
   "source": [
    "# Python API\n",
    "\n",
    "## Structure of AbstractAI\n",
    "\n",
    "```python\n",
    "class AbstractAI(ABC):\n",
    "    def __init__(self, stub, account_name):\n",
    "        self._stub = stub\n",
    "        self.metadata = (('id', account_name),)\n",
    "        self.game_id = \"\"\n",
    "        self.response_stream = None\n",
    "        self.request_stream = None\n",
    "\n",
    "    @abstractmethod\n",
    "    def get_option(self, game: Game, sabber_stub) -> Option:\n",
    "        \"\"\"Calculate and reutnr the best move\n",
    "        with regard to the given game state.\n",
    "        Each AI agent must implement this method.\n",
    "        \"\"\"\n",
    "        pass\n",
    "\n",
    "    @abstractmethod\n",
    "    def on_match_started(self):\n",
    "        \"\"\"This method will be called when a match is started.\"\"\"\n",
    "        pass\n",
    "\n",
    "    @abstractmethod\n",
    "    def on_game_started(self):\n",
    "        \"\"\"This method will be called when each game(round) is started.\"\"\"\n",
    "        pass\n",
    "\n",
    "    @abstractmethod\n",
    "    def on_game_finished(self, game):\n",
    "        \"\"\"This method will be called when each game(round) is finished.\"\"\"\n",
    "        pass\n",
    "```\n"
   ]
  },
  {
   "cell_type": "markdown",
   "metadata": {},
   "source": [
    "## Run SabberStone gRPC stub"
   ]
  },
  {
   "cell_type": "code",
   "execution_count": 1,
   "metadata": {},
   "outputs": [],
   "source": [
    "import sys\n",
    "sys.path.insert(0, \"../../../\")"
   ]
  },
  {
   "cell_type": "code",
   "execution_count": 5,
   "metadata": {},
   "outputs": [],
   "source": [
    "import grpc\n",
    "from pysabberstone.python.rpc import python_pb2_grpc"
   ]
  },
  {
   "cell_type": "code",
   "execution_count": 6,
   "metadata": {},
   "outputs": [],
   "source": [
    "channel = grpc.insecure_channel(\"localhost:50052\")\n",
    "stub = python_pb2_grpc.SabberStonePythonStub(channel)\n",
    "dotnet_ai_stub = python_pb2_grpc.DotnetAIServiceStub(channel)"
   ]
  },
  {
   "cell_type": "markdown",
   "metadata": {},
   "source": [
    "## Create Python `AbstractAI` instance\n",
    "In this tutorial we are going to use `RandomAI`."
   ]
  },
  {
   "cell_type": "code",
   "execution_count": 7,
   "metadata": {},
   "outputs": [],
   "source": [
    "from pysabberstone.python.ai.abstract_ai import RandomAI, dotnet_ai_match"
   ]
  },
  {
   "cell_type": "code",
   "execution_count": 8,
   "metadata": {},
   "outputs": [],
   "source": [
    "account_name = \"TestPythonRandomAI\"\n",
    "ai = RandomAI(stub, account_name)"
   ]
  },
  {
   "cell_type": "markdown",
   "metadata": {},
   "source": [
    "## Run `dotnet_ai_match()`"
   ]
  },
  {
   "cell_type": "code",
   "execution_count": 14,
   "metadata": {},
   "outputs": [],
   "source": [
    "deck = r\"AAEBAQcCrwSRvAIOHLACkQP/A44FqAXUBaQG7gbnB+8HgrACiLACub8CAA==\"\n",
    "\n",
    "dotnet_ai_match(python_ai=ai,\n",
    "                dotnet_ai_name=\"MonteCarloGraphSearch\",\n",
    "                python_ai_deckstring=deck,\n",
    "                dotnet_ai_deckstring=deck,\n",
    "                sabber_stub=stub,\n",
    "                dotnet_ai_stub=dotnet_ai_stub,\n",
    "                history=True)"
   ]
  },
  {
   "cell_type": "code",
   "execution_count": null,
   "metadata": {},
   "outputs": [],
   "source": []
  }
 ],
 "metadata": {
  "kernelspec": {
   "display_name": "Python [conda env:rpc] *",
   "language": "python",
   "name": "conda-env-rpc-py"
  },
  "language_info": {
   "codemirror_mode": {
    "name": "ipython",
    "version": 3
   },
   "file_extension": ".py",
   "mimetype": "text/x-python",
   "name": "python",
   "nbconvert_exporter": "python",
   "pygments_lexer": "ipython3",
   "version": "3.7.3"
  }
 },
 "nbformat": 4,
 "nbformat_minor": 2
}
